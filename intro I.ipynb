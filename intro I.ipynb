{
 "cells": [
  {
   "cell_type": "markdown",
   "id": "8fa1144c",
   "metadata": {},
   "source": [
    "# Print message to user\n",
    "Use `print()` function\n",
    "\n",
    "Example:"
   ]
  },
  {
   "cell_type": "code",
   "execution_count": 10,
   "id": "07ca2295",
   "metadata": {},
   "outputs": [
    {
     "name": "stdout",
     "output_type": "stream",
     "text": [
      "Assalamu alaikum\n",
      "What is your name?\n"
     ]
    }
   ],
   "source": [
    "print(\"Assalamu alaikum\")\n",
    "print(\"What is your name?\")\n"
   ]
  },
  {
   "cell_type": "markdown",
   "id": "aa12414b",
   "metadata": {},
   "source": [
    "# Take an input from the user\n",
    "Use input() function\n",
    "\n",
    "Example:"
   ]
  },
  {
   "cell_type": "code",
   "execution_count": 2,
   "id": "0400086f",
   "metadata": {},
   "outputs": [
    {
     "name": "stdout",
     "output_type": "stream",
     "text": [
      "Name: lamia\n"
     ]
    }
   ],
   "source": [
    "\n",
    "name = input(\"Name: \")"
   ]
  },
  {
   "cell_type": "code",
   "execution_count": 3,
   "id": "f71157d0",
   "metadata": {},
   "outputs": [
    {
     "name": "stdout",
     "output_type": "stream",
     "text": [
      "Nice to meet you lamia\n"
     ]
    }
   ],
   "source": [
    "\n",
    "print (\"Nice to meet you\", name)"
   ]
  },
  {
   "cell_type": "markdown",
   "id": "5176aeb6",
   "metadata": {},
   "source": [
    "# Store information to memory\n",
    "## Using variable\n",
    "\n",
    "Example:\n"
   ]
  },
  {
   "cell_type": "code",
   "execution_count": 4,
   "id": "dda7450e",
   "metadata": {},
   "outputs": [
    {
     "name": "stdout",
     "output_type": "stream",
     "text": [
      "y = 2 x = 3\n"
     ]
    }
   ],
   "source": [
    "x = 3\n",
    "y = 2\n",
    "\n",
    "print(\"y =\", y, \"x =\", x)"
   ]
  },
  {
   "cell_type": "markdown",
   "id": "e794879b",
   "metadata": {},
   "source": [
    "# Condition\n",
    "## if-else statement\n",
    "\n",
    "Program: Decide which one is bigger"
   ]
  },
  {
   "cell_type": "code",
   "execution_count": 5,
   "id": "aa731115",
   "metadata": {},
   "outputs": [
    {
     "name": "stdout",
     "output_type": "stream",
     "text": [
      "x is bigger then y\n"
     ]
    }
   ],
   "source": [
    "if y > x:\n",
    "    print (\"y is bigger then x\")\n",
    "    \n",
    "else:\n",
    "    print (\"x is bigger then y\")"
   ]
  },
  {
   "cell_type": "markdown",
   "id": "b8fea3aa",
   "metadata": {},
   "source": [
    "\n",
    "Program: which number is bigger?\n",
    "Functionality:\n",
    "* Take two number from the user\n",
    "* Decide which one is bigger"
   ]
  },
  {
   "cell_type": "code",
   "execution_count": 6,
   "id": "a9dbc38f",
   "metadata": {},
   "outputs": [
    {
     "name": "stdout",
     "output_type": "stream",
     "text": [
      "Please enter the first number:2\n"
     ]
    }
   ],
   "source": []
  },
  {
   "cell_type": "code",
   "execution_count": 7,
   "id": "aba76b6a",
   "metadata": {},
   "outputs": [
    {
     "name": "stdout",
     "output_type": "stream",
     "text": [
      "Please enter the second number:3\n"
     ]
    }
   ],
   "source": []
  },
  {
   "cell_type": "code",
   "execution_count": 15,
   "id": "23d57d28",
   "metadata": {},
   "outputs": [
    {
     "name": "stdout",
     "output_type": "stream",
     "text": [
      "Please enter the first number:3\n",
      "Please enter the second number:2\n",
      "3 is bigger than 2\n"
     ]
    }
   ],
   "source": [
    "number1 = input(\"Please enter the first number:\")\n",
    "number2 = input(\"Please enter the second number:\")\n",
    "\n",
    "if number2 > number1:\n",
    "    print (number2, \"is bigger than\", number1)\n",
    "    \n",
    "else:\n",
    "    print (number1, \"is bigger than\", number2)"
   ]
  },
  {
   "cell_type": "markdown",
   "id": "21054959",
   "metadata": {},
   "source": [
    "##Program: Tkae 3 numbers from the user and print the number in descending or in other words biggest, medium, smallest"
   ]
  },
  {
   "cell_type": "code",
   "execution_count": null,
   "id": "383dcc7a",
   "metadata": {},
   "outputs": [],
   "source": [
    "x = input (\"Please enter the first number:\")\n",
    "y = input (\"Please enter the second number:\")\n",
    "z = input (\"Please enter the third number:\")\n",
    "\n",
    "# x= 3, y=4, z=5\n",
    "\n",
    "if x > y:\n",
    "    if x > z:\n",
    "        \n",
    "        \n",
    "        "
   ]
  },
  {
   "cell_type": "code",
   "execution_count": null,
   "id": "6cab1ec1",
   "metadata": {},
   "outputs": [],
   "source": []
  },
  {
   "cell_type": "code",
   "execution_count": null,
   "id": "b69773bf",
   "metadata": {},
   "outputs": [],
   "source": []
  },
  {
   "cell_type": "code",
   "execution_count": null,
   "id": "27cf6255",
   "metadata": {},
   "outputs": [],
   "source": []
  },
  {
   "cell_type": "code",
   "execution_count": null,
   "id": "cb339b9f",
   "metadata": {},
   "outputs": [],
   "source": []
  },
  {
   "cell_type": "code",
   "execution_count": null,
   "id": "88207292",
   "metadata": {},
   "outputs": [],
   "source": []
  },
  {
   "cell_type": "code",
   "execution_count": null,
   "id": "f34cf2f5",
   "metadata": {},
   "outputs": [],
   "source": []
  },
  {
   "cell_type": "code",
   "execution_count": null,
   "id": "ec6d5ce2",
   "metadata": {},
   "outputs": [],
   "source": []
  },
  {
   "cell_type": "code",
   "execution_count": null,
   "id": "d77d06e7",
   "metadata": {},
   "outputs": [],
   "source": []
  },
  {
   "cell_type": "code",
   "execution_count": null,
   "id": "1626e09c",
   "metadata": {},
   "outputs": [],
   "source": []
  },
  {
   "cell_type": "code",
   "execution_count": null,
   "id": "2aca7912",
   "metadata": {},
   "outputs": [],
   "source": []
  },
  {
   "cell_type": "code",
   "execution_count": null,
   "id": "ad849ff8",
   "metadata": {},
   "outputs": [],
   "source": []
  },
  {
   "cell_type": "code",
   "execution_count": null,
   "id": "0140baa8",
   "metadata": {},
   "outputs": [],
   "source": []
  },
  {
   "cell_type": "code",
   "execution_count": null,
   "id": "26ab4b79",
   "metadata": {},
   "outputs": [],
   "source": []
  },
  {
   "cell_type": "code",
   "execution_count": null,
   "id": "ef7026ff",
   "metadata": {},
   "outputs": [],
   "source": []
  },
  {
   "cell_type": "code",
   "execution_count": null,
   "id": "9e12177a",
   "metadata": {},
   "outputs": [],
   "source": []
  },
  {
   "cell_type": "code",
   "execution_count": null,
   "id": "7a8d5d16",
   "metadata": {},
   "outputs": [],
   "source": []
  },
  {
   "cell_type": "code",
   "execution_count": null,
   "id": "da16942d",
   "metadata": {},
   "outputs": [],
   "source": []
  },
  {
   "cell_type": "code",
   "execution_count": null,
   "id": "334941ed",
   "metadata": {},
   "outputs": [],
   "source": []
  }
 ],
 "metadata": {
  "kernelspec": {
   "display_name": "Python 3 (ipykernel)",
   "language": "python",
   "name": "python3"
  },
  "language_info": {
   "codemirror_mode": {
    "name": "ipython",
    "version": 3
   },
   "file_extension": ".py",
   "mimetype": "text/x-python",
   "name": "python",
   "nbconvert_exporter": "python",
   "pygments_lexer": "ipython3",
   "version": "3.9.9"
  }
 },
 "nbformat": 4,
 "nbformat_minor": 5
}
